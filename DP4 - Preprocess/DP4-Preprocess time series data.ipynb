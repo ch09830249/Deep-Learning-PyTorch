{
 "cells": [
  {
   "cell_type": "code",
   "execution_count": 2,
   "id": "dd961f9c",
   "metadata": {
    "scrolled": true
   },
   "outputs": [
    {
     "data": {
      "text/plain": [
       "tensor([[1.0000e+00, 1.0000e+00, 1.0000e+00,  ..., 3.0000e+00, 1.3000e+01,\n",
       "         1.6000e+01],\n",
       "        [2.0000e+00, 1.0000e+00, 1.0000e+00,  ..., 8.0000e+00, 3.2000e+01,\n",
       "         4.0000e+01],\n",
       "        [3.0000e+00, 1.0000e+00, 1.0000e+00,  ..., 5.0000e+00, 2.7000e+01,\n",
       "         3.2000e+01],\n",
       "        ...,\n",
       "        [1.7377e+04, 3.1000e+01, 1.0000e+00,  ..., 7.0000e+00, 8.3000e+01,\n",
       "         9.0000e+01],\n",
       "        [1.7378e+04, 3.1000e+01, 1.0000e+00,  ..., 1.3000e+01, 4.8000e+01,\n",
       "         6.1000e+01],\n",
       "        [1.7379e+04, 3.1000e+01, 1.0000e+00,  ..., 1.2000e+01, 3.7000e+01,\n",
       "         4.9000e+01]])"
      ]
     },
     "execution_count": 2,
     "metadata": {},
     "output_type": "execute_result"
    }
   ],
   "source": [
    "import numpy as np\n",
    "import torch\n",
    "bikes_numpy = np.loadtxt(\"hour-fixed.csv\",\n",
    "                         dtype=np.float32,\n",
    "                         delimiter=',',\n",
    "                         skiprows=1,\n",
    "                         converters={1: lambda x: float(x[8:10])}\n",
    "                        )\n",
    "bikes = torch.from_numpy(bikes_numpy)\n",
    "bikes"
   ]
  },
  {
   "cell_type": "code",
   "execution_count": 3,
   "id": "3b0e3a2e",
   "metadata": {},
   "outputs": [
    {
     "data": {
      "text/plain": [
       "torch.Size([17520, 17])"
      ]
     },
     "execution_count": 3,
     "metadata": {},
     "output_type": "execute_result"
    }
   ],
   "source": [
    "bikes.shape  # 2 years * 365 days * 24 hours = 17520 hours       17 attributes"
   ]
  },
  {
   "cell_type": "code",
   "execution_count": 4,
   "id": "8f667c9a",
   "metadata": {},
   "outputs": [
    {
     "data": {
      "text/plain": [
       "torch.Size([730, 24, 17])"
      ]
     },
     "execution_count": 4,
     "metadata": {},
     "output_type": "execute_result"
    }
   ],
   "source": [
    "daily_bikes = bikes.view(-1, 24, bikes.shape[1])  # 第1軸和第2軸給定前提, 第0軸電腦自己產生  17520 / 24 = 730\n",
    "daily_bikes.shape"
   ]
  },
  {
   "cell_type": "code",
   "execution_count": 5,
   "id": "6da6ea6c",
   "metadata": {},
   "outputs": [
    {
     "data": {
      "text/plain": [
       "torch.Size([730, 17, 24])"
      ]
     },
     "execution_count": 5,
     "metadata": {},
     "output_type": "execute_result"
    }
   ],
   "source": [
    "daily_bikes = daily_bikes.transpose(1, 2)\n",
    "daily_bikes.shape"
   ]
  },
  {
   "cell_type": "code",
   "execution_count": 6,
   "id": "abac65d4",
   "metadata": {},
   "outputs": [
    {
     "data": {
      "text/plain": [
       "tensor([1, 1, 1, 1, 1, 2, 1, 1, 1, 1, 1, 1, 1, 2, 2, 2, 2, 2, 3, 3, 2, 2, 2, 2])"
      ]
     },
     "execution_count": 6,
     "metadata": {},
     "output_type": "execute_result"
    }
   ],
   "source": [
    "first_day = bikes[:24].long()    #第一個24小時\n",
    "weather_onehot = torch.zeros(24, 4)    # 4種天氣等級 * 24小時\n",
    "first_day[:, 9]   #第一天第9行的資訊(天氣狀況)"
   ]
  },
  {
   "cell_type": "code",
   "execution_count": 18,
   "id": "0c27cb51",
   "metadata": {},
   "outputs": [
    {
     "data": {
      "text/plain": [
       "tensor([[0],\n",
       "        [0],\n",
       "        [0],\n",
       "        [0],\n",
       "        [0],\n",
       "        [1],\n",
       "        [0],\n",
       "        [0],\n",
       "        [0],\n",
       "        [0],\n",
       "        [0],\n",
       "        [0],\n",
       "        [0],\n",
       "        [1],\n",
       "        [1],\n",
       "        [1],\n",
       "        [1],\n",
       "        [1],\n",
       "        [2],\n",
       "        [2],\n",
       "        [1],\n",
       "        [1],\n",
       "        [1],\n",
       "        [1]])"
      ]
     },
     "execution_count": 18,
     "metadata": {},
     "output_type": "execute_result"
    }
   ],
   "source": [
    "first_day[:,9].unsqueeze(1).long() - 1  #-1是因為index 0開始"
   ]
  },
  {
   "cell_type": "code",
   "execution_count": 7,
   "id": "898c6dd4",
   "metadata": {},
   "outputs": [
    {
     "data": {
      "text/plain": [
       "tensor([[1., 0., 0., 0.],\n",
       "        [1., 0., 0., 0.],\n",
       "        [1., 0., 0., 0.],\n",
       "        [1., 0., 0., 0.],\n",
       "        [1., 0., 0., 0.],\n",
       "        [0., 1., 0., 0.],\n",
       "        [1., 0., 0., 0.],\n",
       "        [1., 0., 0., 0.],\n",
       "        [1., 0., 0., 0.],\n",
       "        [1., 0., 0., 0.],\n",
       "        [1., 0., 0., 0.],\n",
       "        [1., 0., 0., 0.],\n",
       "        [1., 0., 0., 0.],\n",
       "        [0., 1., 0., 0.],\n",
       "        [0., 1., 0., 0.],\n",
       "        [0., 1., 0., 0.],\n",
       "        [0., 1., 0., 0.],\n",
       "        [0., 1., 0., 0.],\n",
       "        [0., 0., 1., 0.],\n",
       "        [0., 0., 1., 0.],\n",
       "        [0., 1., 0., 0.],\n",
       "        [0., 1., 0., 0.],\n",
       "        [0., 1., 0., 0.],\n",
       "        [0., 1., 0., 0.]])"
      ]
     },
     "execution_count": 7,
     "metadata": {},
     "output_type": "execute_result"
    }
   ],
   "source": [
    "weather_onehot.scatter_(1, first_day[:,9].unsqueeze(1).long() - 1, 1.0)"
   ]
  },
  {
   "cell_type": "code",
   "execution_count": 9,
   "id": "252508b9",
   "metadata": {},
   "outputs": [
    {
     "data": {
      "text/plain": [
       "tensor([[ 1.0000,  1.0000,  1.0000,  0.0000,  1.0000,  0.0000,  0.0000,  6.0000,\n",
       "          0.0000,  1.0000,  0.2400,  0.2879,  0.8100,  0.0000,  3.0000, 13.0000,\n",
       "         16.0000,  1.0000,  0.0000,  0.0000,  0.0000]])"
      ]
     },
     "execution_count": 9,
     "metadata": {},
     "output_type": "execute_result"
    }
   ],
   "source": [
    "torch.cat((bikes[:24], weather_onehot), 1)[:1]   #one-hot資料和原資料連結 (沿第一軸)"
   ]
  },
  {
   "cell_type": "code",
   "execution_count": 13,
   "id": "1324ea93",
   "metadata": {},
   "outputs": [
    {
     "data": {
      "text/plain": [
       "torch.Size([730, 4, 24])"
      ]
     },
     "execution_count": 13,
     "metadata": {},
     "output_type": "execute_result"
    }
   ],
   "source": [
    "daily_weather_onehot = torch.zeros(daily_bikes.shape[0], 4, daily_bikes.shape[2]) # 730 days, 4 天氣狀況, 24 hours  創建one hot tensor\n",
    "daily_weather_onehot.shape"
   ]
  },
  {
   "cell_type": "code",
   "execution_count": 14,
   "id": "3db7f3c4",
   "metadata": {},
   "outputs": [
    {
     "data": {
      "text/plain": [
       "torch.Size([730, 4, 24])"
      ]
     },
     "execution_count": 14,
     "metadata": {},
     "output_type": "execute_result"
    }
   ],
   "source": [
    "daily_weather_onehot.scatter_(1, daily_bikes[:, 9, :].long().unsqueeze(1) - 1, 1.0) #one hot encoding\n",
    "daily_weather_onehot.shape"
   ]
  },
  {
   "cell_type": "code",
   "execution_count": 16,
   "id": "9205a8a6",
   "metadata": {},
   "outputs": [],
   "source": [
    "daily_bikes = torch.cat((daily_bikes, daily_weather_onehot), dim=1)  #與原資料連結"
   ]
  },
  {
   "cell_type": "code",
   "execution_count": 17,
   "id": "16fcec16",
   "metadata": {},
   "outputs": [],
   "source": [
    "daily_bikes[:, 9, :] = (daily_bikes[:, 9, :] - 1.0) / 3.0   #將天氣狀況投影至0~1"
   ]
  },
  {
   "cell_type": "code",
   "execution_count": 19,
   "id": "f154dbee",
   "metadata": {},
   "outputs": [
    {
     "data": {
      "text/plain": [
       "tensor([[0.2245, 0.2041, 0.2041,  ..., 0.3878, 0.3878, 0.4490],\n",
       "        [0.4490, 0.4286, 0.4082,  ..., 0.2449, 0.2245, 0.2041],\n",
       "        [0.2041, 0.1837, 0.1837,  ..., 0.1633, 0.1224, 0.1633],\n",
       "        ...,\n",
       "        [0.2245, 0.2245, 0.2245,  ..., 0.2653, 0.2449, 0.2449],\n",
       "        [0.2449, 0.2449, 0.2449,  ..., 0.1837, 0.1837, 0.1837],\n",
       "        [0.1633, 0.1633, 0.1429,  ..., 0.2449, 0.2449, 0.2449]])"
      ]
     },
     "execution_count": 19,
     "metadata": {},
     "output_type": "execute_result"
    }
   ],
   "source": [
    "#對攝氏溫度做正規化\n",
    "temp = daily_bikes[:, 10, :]\n",
    "temp_min = torch.min(temp)\n",
    "temp_max = torch.max(temp)\n",
    "daily_bikes[:, 10,:] = (daily_bikes[:, 10, :] - temp_min) / (temp_max - temp_min)\n",
    "daily_bikes[:, 10,:]"
   ]
  },
  {
   "cell_type": "code",
   "execution_count": 20,
   "id": "9057c14e",
   "metadata": {},
   "outputs": [
    {
     "data": {
      "text/plain": [
       "tensor([[-1.3213, -1.4248, -1.4248,  ..., -0.4932, -0.4932, -0.1827],\n",
       "        [-0.1827, -0.2862, -0.3897,  ..., -1.2178, -1.3213, -1.4248],\n",
       "        [-1.4248, -1.5284, -1.5284,  ..., -1.6319, -1.8389, -1.6319],\n",
       "        ...,\n",
       "        [-1.3213, -1.3213, -1.3213,  ..., -1.1143, -1.2178, -1.2178],\n",
       "        [-1.2178, -1.2178, -1.2178,  ..., -1.5284, -1.5284, -1.5284],\n",
       "        [-1.6319, -1.6319, -1.7354,  ..., -1.2178, -1.2178, -1.2178]])"
      ]
     },
     "execution_count": 20,
     "metadata": {},
     "output_type": "execute_result"
    }
   ],
   "source": [
    "temp = daily_bikes[:, 10,:]\n",
    "daily_bikes[:, 10,:] = (daily_bikes[:, 10,:] - torch.mean(temp)) / torch.std(temp)\n",
    "daily_bikes[:, 10,:]"
   ]
  },
  {
   "cell_type": "code",
   "execution_count": null,
   "id": "1c96fda9",
   "metadata": {},
   "outputs": [],
   "source": []
  }
 ],
 "metadata": {
  "kernelspec": {
   "display_name": "Python 3 (ipykernel)",
   "language": "python",
   "name": "python3"
  },
  "language_info": {
   "codemirror_mode": {
    "name": "ipython",
    "version": 3
   },
   "file_extension": ".py",
   "mimetype": "text/x-python",
   "name": "python",
   "nbconvert_exporter": "python",
   "pygments_lexer": "ipython3",
   "version": "3.9.7"
  }
 },
 "nbformat": 4,
 "nbformat_minor": 5
}
