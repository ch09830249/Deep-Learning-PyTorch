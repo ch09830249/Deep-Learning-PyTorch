{
 "cells": [
  {
   "cell_type": "code",
   "execution_count": 1,
   "id": "ea32584c",
   "metadata": {},
   "outputs": [],
   "source": [
    "a = [1,2]"
   ]
  },
  {
   "cell_type": "code",
   "execution_count": 2,
   "id": "25177f5d",
   "metadata": {},
   "outputs": [],
   "source": [
    "a[0] = 3.0"
   ]
  },
  {
   "cell_type": "code",
   "execution_count": 3,
   "id": "399ce9e5",
   "metadata": {},
   "outputs": [
    {
     "data": {
      "text/plain": [
       "[3.0, 2]"
      ]
     },
     "execution_count": 3,
     "metadata": {},
     "output_type": "execute_result"
    }
   ],
   "source": [
    "a"
   ]
  },
  {
   "cell_type": "code",
   "execution_count": 4,
   "id": "113312af",
   "metadata": {},
   "outputs": [
    {
     "data": {
      "text/plain": [
       "tensor([1., 1., 1.])"
      ]
     },
     "execution_count": 4,
     "metadata": {},
     "output_type": "execute_result"
    }
   ],
   "source": [
    "import torch\n",
    "a = torch.ones(3)\n",
    "a"
   ]
  },
  {
   "cell_type": "code",
   "execution_count": 5,
   "id": "b5fe8a2b",
   "metadata": {},
   "outputs": [
    {
     "data": {
      "text/plain": [
       "tensor(1.)"
      ]
     },
     "execution_count": 5,
     "metadata": {},
     "output_type": "execute_result"
    }
   ],
   "source": [
    "a[1]"
   ]
  },
  {
   "cell_type": "code",
   "execution_count": 6,
   "id": "5273b973",
   "metadata": {},
   "outputs": [
    {
     "data": {
      "text/plain": [
       "1.0"
      ]
     },
     "execution_count": 6,
     "metadata": {},
     "output_type": "execute_result"
    }
   ],
   "source": [
    "float(a[1])"
   ]
  },
  {
   "cell_type": "code",
   "execution_count": 7,
   "id": "9a30a33f",
   "metadata": {},
   "outputs": [
    {
     "data": {
      "text/plain": [
       "tensor([1., 1., 2.])"
      ]
     },
     "execution_count": 7,
     "metadata": {},
     "output_type": "execute_result"
    }
   ],
   "source": [
    "a[2] = 2.0\n",
    "a"
   ]
  },
  {
   "cell_type": "code",
   "execution_count": 8,
   "id": "0be21df7",
   "metadata": {},
   "outputs": [
    {
     "data": {
      "text/plain": [
       "tensor([0., 0., 0., 0., 0., 0.])"
      ]
     },
     "execution_count": 8,
     "metadata": {},
     "output_type": "execute_result"
    }
   ],
   "source": [
    "points = torch.zeros(6)\n",
    "points"
   ]
  },
  {
   "cell_type": "code",
   "execution_count": 9,
   "id": "6a99952e",
   "metadata": {},
   "outputs": [
    {
     "data": {
      "text/plain": [
       "tensor([4., 1., 5., 3., 2., 1.])"
      ]
     },
     "execution_count": 9,
     "metadata": {},
     "output_type": "execute_result"
    }
   ],
   "source": [
    "points[0] = 4.0\n",
    "points[1] = 1.0\n",
    "points[2] = 5.0\n",
    "points[3] = 3.0\n",
    "points[4] = 2.0\n",
    "points[5] = 1.0\n",
    "points"
   ]
  },
  {
   "cell_type": "code",
   "execution_count": 10,
   "id": "d2ea810b",
   "metadata": {},
   "outputs": [
    {
     "data": {
      "text/plain": [
       "tensor([4., 1., 5., 3., 2., 1.])"
      ]
     },
     "execution_count": 10,
     "metadata": {},
     "output_type": "execute_result"
    }
   ],
   "source": [
    "points = torch.tensor([4.0, 1.0, 5.0, 3.0, 2.0, 1.0])\n",
    "points"
   ]
  },
  {
   "cell_type": "code",
   "execution_count": 11,
   "id": "0c59e257",
   "metadata": {},
   "outputs": [
    {
     "data": {
      "text/plain": [
       "(4.0, 1.0)"
      ]
     },
     "execution_count": 11,
     "metadata": {},
     "output_type": "execute_result"
    }
   ],
   "source": [
    "float(points[0]), float(points[1])"
   ]
  },
  {
   "cell_type": "code",
   "execution_count": 12,
   "id": "1290547a",
   "metadata": {},
   "outputs": [
    {
     "data": {
      "text/plain": [
       "tensor([4., 1.])"
      ]
     },
     "execution_count": 12,
     "metadata": {},
     "output_type": "execute_result"
    }
   ],
   "source": [
    "points = torch.tensor([[4.0, 1.0], [5.0, 3.0], [2.0, 1.0]])\n",
    "points[0]"
   ]
  },
  {
   "cell_type": "code",
   "execution_count": 13,
   "id": "90e3f0a5",
   "metadata": {},
   "outputs": [
    {
     "data": {
      "text/plain": [
       "torch.Size([3, 2])"
      ]
     },
     "execution_count": 13,
     "metadata": {},
     "output_type": "execute_result"
    }
   ],
   "source": [
    "points.shape"
   ]
  },
  {
   "cell_type": "code",
   "execution_count": 14,
   "id": "92688df5",
   "metadata": {},
   "outputs": [
    {
     "data": {
      "text/plain": [
       "tensor([[0., 0.],\n",
       "        [0., 0.],\n",
       "        [0., 0.]])"
      ]
     },
     "execution_count": 14,
     "metadata": {},
     "output_type": "execute_result"
    }
   ],
   "source": [
    "points = torch.zeros(3, 2)\n",
    "points"
   ]
  },
  {
   "cell_type": "code",
   "execution_count": 15,
   "id": "adc7a9a8",
   "metadata": {},
   "outputs": [
    {
     "data": {
      "text/plain": [
       "[0, 1, 2, 3, 4, 5]"
      ]
     },
     "execution_count": 15,
     "metadata": {},
     "output_type": "execute_result"
    }
   ],
   "source": [
    "some_list = list(range(6))     #Note\n",
    "some_list[:]"
   ]
  },
  {
   "cell_type": "code",
   "execution_count": 16,
   "id": "f29d63b6",
   "metadata": {},
   "outputs": [
    {
     "data": {
      "text/plain": [
       "[0, 1, 2, 3]"
      ]
     },
     "execution_count": 16,
     "metadata": {},
     "output_type": "execute_result"
    }
   ],
   "source": [
    "some_list[0:4]"
   ]
  },
  {
   "cell_type": "code",
   "execution_count": 17,
   "id": "18035a69",
   "metadata": {},
   "outputs": [
    {
     "data": {
      "text/plain": [
       "[1, 2, 3, 4, 5]"
      ]
     },
     "execution_count": 17,
     "metadata": {},
     "output_type": "execute_result"
    }
   ],
   "source": [
    "some_list[1:]"
   ]
  },
  {
   "cell_type": "code",
   "execution_count": 18,
   "id": "7b03eebd",
   "metadata": {},
   "outputs": [
    {
     "data": {
      "text/plain": [
       "[0, 1, 2, 3, 4]"
      ]
     },
     "execution_count": 18,
     "metadata": {},
     "output_type": "execute_result"
    }
   ],
   "source": [
    "some_list[:-1]        #Note"
   ]
  },
  {
   "cell_type": "code",
   "execution_count": 19,
   "id": "0e47a3da",
   "metadata": {},
   "outputs": [
    {
     "data": {
      "text/plain": [
       "tensor([[4., 1.],\n",
       "        [5., 3.],\n",
       "        [2., 1.]])"
      ]
     },
     "execution_count": 19,
     "metadata": {},
     "output_type": "execute_result"
    }
   ],
   "source": [
    "points = torch.tensor([[4.0, 1.0], [5.0, 3.0], [2.0, 1.0]])\n",
    "points"
   ]
  },
  {
   "cell_type": "code",
   "execution_count": 20,
   "id": "b18d8fef",
   "metadata": {},
   "outputs": [
    {
     "data": {
      "text/plain": [
       "tensor([[5., 3.],\n",
       "        [2., 1.]])"
      ]
     },
     "execution_count": 20,
     "metadata": {},
     "output_type": "execute_result"
    }
   ],
   "source": [
    "points[1:, :]"
   ]
  },
  {
   "cell_type": "code",
   "execution_count": 21,
   "id": "02b37202",
   "metadata": {},
   "outputs": [
    {
     "data": {
      "text/plain": [
       "tensor([5., 2.])"
      ]
     },
     "execution_count": 21,
     "metadata": {},
     "output_type": "execute_result"
    }
   ],
   "source": [
    "points[1:, 0]"
   ]
  },
  {
   "cell_type": "code",
   "execution_count": 22,
   "id": "f0172037",
   "metadata": {},
   "outputs": [
    {
     "name": "stderr",
     "output_type": "stream",
     "text": [
      "C:\\Users\\user\\AppData\\Local\\Temp/ipykernel_11088/2371314847.py:1: UserWarning: Named tensors and all their associated APIs are an experimental feature and subject to change. Please do not use them for anything important until they are released as stable. (Triggered internally at  C:\\cb\\pytorch_1000000000000\\work\\c10/core/TensorImpl.h:1463.)\n",
      "  weights_named = torch.tensor([0.2126, 0.7152, 0.0722], names=['channels'])\n"
     ]
    },
    {
     "data": {
      "text/plain": [
       "tensor([0.2126, 0.7152, 0.0722], names=('channels',))"
      ]
     },
     "execution_count": 22,
     "metadata": {},
     "output_type": "execute_result"
    }
   ],
   "source": [
    "weights_named = torch.tensor([0.2126, 0.7152, 0.0722], names=['channels'])\n",
    "weights_named"
   ]
  },
  {
   "cell_type": "code",
   "execution_count": 23,
   "id": "a090fbda",
   "metadata": {},
   "outputs": [
    {
     "name": "stdout",
     "output_type": "stream",
     "text": [
      "img named: torch.Size([3, 5, 5]) ('channels', 'rows', 'columns')\n",
      "img named: torch.Size([2, 3, 5, 5]) (None, 'channels', 'rows', 'columns')\n",
      "tensor([[[ 3.3978e-01, -1.1031e+00,  2.1268e+00,  1.5328e+00, -5.3335e-01],\n",
      "         [-4.2942e-01,  3.4909e-02, -1.1569e+00, -1.2952e+00,  2.1576e-01],\n",
      "         [-3.7654e-01,  4.4203e-01,  4.6708e-01,  2.7209e+00, -6.0555e-01],\n",
      "         [ 7.7913e-01, -3.3660e-01, -6.5728e-01,  3.5242e-01, -1.4970e+00],\n",
      "         [-8.8462e-01,  1.2473e+00,  6.4275e-01,  5.6833e-01,  3.8058e-01]],\n",
      "\n",
      "        [[-1.2984e+00,  4.0626e-01, -1.3844e-02,  8.6561e-01,  8.5262e-01],\n",
      "         [ 1.9708e-01,  3.8868e-01, -4.3953e-01,  9.4774e-03,  8.3825e-01],\n",
      "         [ 1.2366e+00, -1.4428e+00,  4.6018e-01, -7.9167e-02,  1.0619e+00],\n",
      "         [-6.2935e-01, -5.4895e-01, -1.4169e+00,  1.6346e-01,  7.6713e-01],\n",
      "         [ 3.3240e-01,  1.0300e+00,  1.4574e+00, -1.0017e+00, -1.0632e+00]],\n",
      "\n",
      "        [[ 2.4975e+00,  6.2380e-01, -8.6661e-01, -1.3279e+00,  8.8041e-01],\n",
      "         [-7.0686e-01, -1.5566e+00, -8.2669e-01,  2.3328e+00, -9.2071e-01],\n",
      "         [-1.4441e-01, -4.6669e-01, -1.3149e+00,  7.7080e-04, -9.0819e-01],\n",
      "         [-9.2629e-01,  1.5635e+00, -2.5315e+00,  4.1520e-01, -4.8217e-01],\n",
      "         [ 2.4704e-01,  1.2689e+00,  5.4598e-01, -1.3631e+00,  7.8330e-01]]],\n",
      "       names=('channels', 'rows', 'columns'))\n",
      "tensor([[[ 3.3978e-01, -1.1031e+00,  2.1268e+00,  1.5328e+00, -5.3335e-01],\n",
      "         [-4.2942e-01,  3.4909e-02, -1.1569e+00, -1.2952e+00,  2.1576e-01],\n",
      "         [-3.7654e-01,  4.4203e-01,  4.6708e-01,  2.7209e+00, -6.0555e-01],\n",
      "         [ 7.7913e-01, -3.3660e-01, -6.5728e-01,  3.5242e-01, -1.4970e+00],\n",
      "         [-8.8462e-01,  1.2473e+00,  6.4275e-01,  5.6833e-01,  3.8058e-01]],\n",
      "\n",
      "        [[-1.2984e+00,  4.0626e-01, -1.3844e-02,  8.6561e-01,  8.5262e-01],\n",
      "         [ 1.9708e-01,  3.8868e-01, -4.3953e-01,  9.4774e-03,  8.3825e-01],\n",
      "         [ 1.2366e+00, -1.4428e+00,  4.6018e-01, -7.9167e-02,  1.0619e+00],\n",
      "         [-6.2935e-01, -5.4895e-01, -1.4169e+00,  1.6346e-01,  7.6713e-01],\n",
      "         [ 3.3240e-01,  1.0300e+00,  1.4574e+00, -1.0017e+00, -1.0632e+00]],\n",
      "\n",
      "        [[ 2.4975e+00,  6.2380e-01, -8.6661e-01, -1.3279e+00,  8.8041e-01],\n",
      "         [-7.0686e-01, -1.5566e+00, -8.2669e-01,  2.3328e+00, -9.2071e-01],\n",
      "         [-1.4441e-01, -4.6669e-01, -1.3149e+00,  7.7080e-04, -9.0819e-01],\n",
      "         [-9.2629e-01,  1.5635e+00, -2.5315e+00,  4.1520e-01, -4.8217e-01],\n",
      "         [ 2.4704e-01,  1.2689e+00,  5.4598e-01, -1.3631e+00,  7.8330e-01]]])\n"
     ]
    }
   ],
   "source": [
    "import torch\n",
    "img_t = torch.randn(3, 5, 5)\n",
    "batch_t = torch.randn(2, 3, 5, 5)\n",
    "img_named = img_t.refine_names(..., 'channels', 'rows', 'columns')\n",
    "batch_named = batch_t.refine_names(..., 'channels', 'rows', 'columns')\n",
    "print(\"img named:\", img_named.shape, img_named.names)\n",
    "print(\"img named:\", batch_named.shape, batch_named.names)\n",
    "print(img_named)\n",
    "print(img_t)"
   ]
  },
  {
   "cell_type": "code",
   "execution_count": 24,
   "id": "6d87b0e2",
   "metadata": {},
   "outputs": [
    {
     "name": "stdout",
     "output_type": "stream",
     "text": [
      "torch.Size([3, 1, 1]) ('channels', 'rows', 'columns')\n",
      "tensor([[[0.2126]],\n",
      "\n",
      "        [[0.7152]],\n",
      "\n",
      "        [[0.0722]]], names=('channels', 'rows', 'columns'))\n"
     ]
    }
   ],
   "source": [
    "weights_aligned = weights_named.align_as(img_named)\n",
    "print(weights_aligned.shape, weights_aligned.names)\n",
    "print(weights_aligned)     #張量擴張"
   ]
  },
  {
   "cell_type": "code",
   "execution_count": 25,
   "id": "78450344",
   "metadata": {},
   "outputs": [
    {
     "name": "stdout",
     "output_type": "stream",
     "text": [
      "tensor([[[ 7.2237e-02, -2.3451e-01,  4.5217e-01,  3.2587e-01, -1.1339e-01],\n",
      "         [-9.1294e-02,  7.4216e-03, -2.4596e-01, -2.7536e-01,  4.5871e-02],\n",
      "         [-8.0052e-02,  9.3975e-02,  9.9301e-02,  5.7846e-01, -1.2874e-01],\n",
      "         [ 1.6564e-01, -7.1561e-02, -1.3974e-01,  7.4924e-02, -3.1827e-01],\n",
      "         [-1.8807e-01,  2.6519e-01,  1.3665e-01,  1.2083e-01,  8.0912e-02]],\n",
      "\n",
      "        [[-9.2863e-01,  2.9055e-01, -9.9009e-03,  6.1908e-01,  6.0979e-01],\n",
      "         [ 1.4095e-01,  2.7798e-01, -3.1435e-01,  6.7782e-03,  5.9952e-01],\n",
      "         [ 8.8440e-01, -1.0319e+00,  3.2912e-01, -5.6620e-02,  7.5947e-01],\n",
      "         [-4.5011e-01, -3.9261e-01, -1.0134e+00,  1.1691e-01,  5.4865e-01],\n",
      "         [ 2.3773e-01,  7.3662e-01,  1.0424e+00, -7.1641e-01, -7.6042e-01]],\n",
      "\n",
      "        [[ 1.8032e-01,  4.5038e-02, -6.2569e-02, -9.5876e-02,  6.3566e-02],\n",
      "         [-5.1035e-02, -1.1239e-01, -5.9687e-02,  1.6843e-01, -6.6475e-02],\n",
      "         [-1.0426e-02, -3.3695e-02, -9.4939e-02,  5.5652e-05, -6.5571e-02],\n",
      "         [-6.6878e-02,  1.1288e-01, -1.8278e-01,  2.9978e-02, -3.4812e-02],\n",
      "         [ 1.7836e-02,  9.1616e-02,  3.9420e-02, -9.8414e-02,  5.6555e-02]]],\n",
      "       names=('channels', 'rows', 'columns'))\n",
      "tensor([[-0.6761,  0.1011,  0.3797,  0.8491,  0.5600],\n",
      "        [-0.0014,  0.1730, -0.6200, -0.1001,  0.5789],\n",
      "        [ 0.7939, -0.9716,  0.3335,  0.5219,  0.5652],\n",
      "        [-0.3513, -0.3513, -1.3359,  0.2218,  0.1956],\n",
      "        [ 0.0675,  1.0934,  1.2184, -0.6940, -0.6230]],\n",
      "       names=('rows', 'columns'))\n",
      "torch.Size([5, 5]) ('rows', 'columns')\n"
     ]
    }
   ],
   "source": [
    "gray_named = (img_named * weights_aligned)\n",
    "print(gray_named)\n",
    "gray_named_sum = gray_named.sum('channels')\n",
    "print(gray_named_sum)\n",
    "print(gray_named_sum.shape, gray_named_sum.names)"
   ]
  },
  {
   "cell_type": "code",
   "execution_count": 26,
   "id": "53e96adc",
   "metadata": {},
   "outputs": [
    {
     "data": {
      "text/plain": [
       "torch.int16"
      ]
     },
     "execution_count": 26,
     "metadata": {},
     "output_type": "execute_result"
    }
   ],
   "source": [
    "double_points = torch.ones(10, 2, dtype = torch.double)\n",
    "short_points = torch.tensor([[1, 2], [3, 4]], dtype = torch.short)\n",
    "short_points.dtype"
   ]
  },
  {
   "cell_type": "code",
   "execution_count": 27,
   "id": "86f881eb",
   "metadata": {},
   "outputs": [
    {
     "name": "stdout",
     "output_type": "stream",
     "text": [
      "torch.float64\n"
     ]
    }
   ],
   "source": [
    "double_points = torch.zeros(10, 2).double()\n",
    "print(double_points.dtype)"
   ]
  },
  {
   "cell_type": "code",
   "execution_count": 28,
   "id": "53bd538b",
   "metadata": {},
   "outputs": [
    {
     "name": "stdout",
     "output_type": "stream",
     "text": [
      "torch.float64\n",
      "torch.int16\n"
     ]
    }
   ],
   "source": [
    "double_points = torch.zeros(10, 2)\n",
    "double_points = double_points.to(torch.double)\n",
    "short_points = torch.ones(10, 2).to(dtype=torch.short)\n",
    "print(double_points.dtype)\n",
    "print(short_points.dtype)"
   ]
  },
  {
   "cell_type": "code",
   "execution_count": 29,
   "id": "58d9ab86",
   "metadata": {},
   "outputs": [
    {
     "data": {
      "text/plain": [
       "tensor([0., 0., 0., 0., 0.], dtype=torch.float64)"
      ]
     },
     "execution_count": 29,
     "metadata": {},
     "output_type": "execute_result"
    }
   ],
   "source": [
    "points_64 = torch.zeros(5, dtype=torch.double)\n",
    "points_short = points_64.to(torch.short)\n",
    "points_64 * points_short"
   ]
  },
  {
   "cell_type": "code",
   "execution_count": 30,
   "id": "7c52c59c",
   "metadata": {},
   "outputs": [
    {
     "data": {
      "text/plain": [
       "(torch.Size([3, 2]), torch.Size([2, 3]))"
      ]
     },
     "execution_count": 30,
     "metadata": {},
     "output_type": "execute_result"
    }
   ],
   "source": [
    "#用torch\n",
    "a = torch.ones(3, 2)\n",
    "a_t = torch.transpose(a, 0, 1)\n",
    "a.shape, a_t.shape"
   ]
  },
  {
   "cell_type": "code",
   "execution_count": 31,
   "id": "085486ae",
   "metadata": {},
   "outputs": [
    {
     "data": {
      "text/plain": [
       "(torch.Size([3, 2]), torch.Size([2, 3]))"
      ]
     },
     "execution_count": 31,
     "metadata": {},
     "output_type": "execute_result"
    }
   ],
   "source": [
    "a = torch.ones(3, 2)\n",
    "a_t = a.transpose(0, 1)\n",
    "a.shape, a_t.shape"
   ]
  },
  {
   "cell_type": "code",
   "execution_count": 32,
   "id": "dfc95169",
   "metadata": {},
   "outputs": [
    {
     "data": {
      "text/plain": [
       " 4.0\n",
       " 1.0\n",
       " 5.0\n",
       " 3.0\n",
       " 2.0\n",
       " 1.0\n",
       "[torch.FloatStorage of size 6]"
      ]
     },
     "execution_count": 32,
     "metadata": {},
     "output_type": "execute_result"
    }
   ],
   "source": [
    "import torch\n",
    "points = torch.tensor([[4.0, 1.0], [5.0, 3.0], [2.0, 1.0]])\n",
    "points.storage()"
   ]
  },
  {
   "cell_type": "code",
   "execution_count": 33,
   "id": "4034bea8",
   "metadata": {},
   "outputs": [
    {
     "data": {
      "text/plain": [
       "1.0"
      ]
     },
     "execution_count": 33,
     "metadata": {},
     "output_type": "execute_result"
    }
   ],
   "source": [
    "points_storage = points.storage()\n",
    "points_storage[5]"
   ]
  },
  {
   "cell_type": "code",
   "execution_count": 34,
   "id": "3ba02caa",
   "metadata": {},
   "outputs": [
    {
     "data": {
      "text/plain": [
       "5.0"
      ]
     },
     "execution_count": 34,
     "metadata": {},
     "output_type": "execute_result"
    }
   ],
   "source": [
    "points.storage()[2]"
   ]
  },
  {
   "cell_type": "code",
   "execution_count": 35,
   "id": "d9c08538",
   "metadata": {},
   "outputs": [
    {
     "data": {
      "text/plain": [
       "tensor([[ 4.0000,  1.0000],\n",
       "        [ 5.0000, 10.3000],\n",
       "        [ 2.0000,  1.0000]])"
      ]
     },
     "execution_count": 35,
     "metadata": {},
     "output_type": "execute_result"
    }
   ],
   "source": [
    "points_storage[3] = 10.3\n",
    "points"
   ]
  },
  {
   "cell_type": "code",
   "execution_count": 36,
   "id": "3aa317fd",
   "metadata": {},
   "outputs": [
    {
     "name": "stdout",
     "output_type": "stream",
     "text": [
      "tensor([[1., 1.],\n",
      "        [1., 1.],\n",
      "        [1., 1.]])\n",
      "tensor([[0., 0.],\n",
      "        [0., 0.],\n",
      "        [0., 0.]])\n"
     ]
    }
   ],
   "source": [
    "a = torch.ones(3, 2)\n",
    "print(a)\n",
    "a.zero_()\n",
    "print(a)"
   ]
  },
  {
   "cell_type": "code",
   "execution_count": 37,
   "id": "639a99c0",
   "metadata": {},
   "outputs": [
    {
     "data": {
      "text/plain": [
       " 4.0\n",
       " 1.0\n",
       " 5.0\n",
       " 3.0\n",
       " 2.0\n",
       " 1.0\n",
       "[torch.FloatStorage of size 6]"
      ]
     },
     "execution_count": 37,
     "metadata": {},
     "output_type": "execute_result"
    }
   ],
   "source": [
    "points = torch.tensor([[4.0, 1.0], [5.0, 3.0], [2.0, 1.0]])\n",
    "points.storage()"
   ]
  },
  {
   "cell_type": "code",
   "execution_count": 38,
   "id": "1e560c63",
   "metadata": {},
   "outputs": [
    {
     "data": {
      "text/plain": [
       " 4.0\n",
       " 1.0\n",
       " 5.0\n",
       " 3.0\n",
       " 2.0\n",
       " 1.0\n",
       "[torch.FloatStorage of size 6]"
      ]
     },
     "execution_count": 38,
     "metadata": {},
     "output_type": "execute_result"
    }
   ],
   "source": [
    "second_point = points[1]\n",
    "second_point.storage()"
   ]
  },
  {
   "cell_type": "code",
   "execution_count": 39,
   "id": "f7695340",
   "metadata": {},
   "outputs": [
    {
     "data": {
      "text/plain": [
       "2"
      ]
     },
     "execution_count": 39,
     "metadata": {},
     "output_type": "execute_result"
    }
   ],
   "source": [
    "second_point.storage_offset()"
   ]
  },
  {
   "cell_type": "code",
   "execution_count": 40,
   "id": "028d30df",
   "metadata": {},
   "outputs": [
    {
     "data": {
      "text/plain": [
       "torch.Size([2])"
      ]
     },
     "execution_count": 40,
     "metadata": {},
     "output_type": "execute_result"
    }
   ],
   "source": [
    "second_point.size()"
   ]
  },
  {
   "cell_type": "code",
   "execution_count": 41,
   "id": "e9335560",
   "metadata": {},
   "outputs": [
    {
     "data": {
      "text/plain": [
       "tensor([5., 3.])"
      ]
     },
     "execution_count": 41,
     "metadata": {},
     "output_type": "execute_result"
    }
   ],
   "source": [
    "second_point"
   ]
  },
  {
   "cell_type": "code",
   "execution_count": 42,
   "id": "c66a3f72",
   "metadata": {},
   "outputs": [
    {
     "data": {
      "text/plain": [
       "torch.Size([2])"
      ]
     },
     "execution_count": 42,
     "metadata": {},
     "output_type": "execute_result"
    }
   ],
   "source": [
    "second_point.shape"
   ]
  },
  {
   "cell_type": "code",
   "execution_count": 43,
   "id": "bb07ba98",
   "metadata": {},
   "outputs": [
    {
     "data": {
      "text/plain": [
       "(2, 1)"
      ]
     },
     "execution_count": 43,
     "metadata": {},
     "output_type": "execute_result"
    }
   ],
   "source": [
    "points.stride()"
   ]
  },
  {
   "cell_type": "code",
   "execution_count": 44,
   "id": "ae5b42b6",
   "metadata": {},
   "outputs": [
    {
     "data": {
      "text/plain": [
       "tensor([[ 4.,  1.],\n",
       "        [10.,  3.],\n",
       "        [ 2.,  1.]])"
      ]
     },
     "execution_count": 44,
     "metadata": {},
     "output_type": "execute_result"
    }
   ],
   "source": [
    "points = torch.tensor([[4.0, 1.0], [5.0, 3.0], [2.0, 1.0]])\n",
    "second_point = points[1]\n",
    "second_point[0] = 10.0\n",
    "points"
   ]
  },
  {
   "cell_type": "code",
   "execution_count": 45,
   "id": "66044766",
   "metadata": {},
   "outputs": [
    {
     "data": {
      "text/plain": [
       "tensor([[4., 1.],\n",
       "        [5., 3.],\n",
       "        [2., 1.]])"
      ]
     },
     "execution_count": 45,
     "metadata": {},
     "output_type": "execute_result"
    }
   ],
   "source": [
    "points = torch.tensor([[4.0, 1.0], [5.0, 3.0], [2.0, 1.0]])\n",
    "second_point = points[1].clone()       #複製新的避免母張量被更改\n",
    "second_point[0] = 10.0\n",
    "points"
   ]
  },
  {
   "cell_type": "code",
   "execution_count": 46,
   "id": "9cf317da",
   "metadata": {},
   "outputs": [
    {
     "data": {
      "text/plain": [
       "tensor([[4., 1.],\n",
       "        [5., 3.],\n",
       "        [2., 1.]])"
      ]
     },
     "execution_count": 46,
     "metadata": {},
     "output_type": "execute_result"
    }
   ],
   "source": [
    "points = torch.tensor([[4.0, 1.0], [5.0, 3.0], [2.0, 1.0]])\n",
    "points"
   ]
  },
  {
   "cell_type": "code",
   "execution_count": 47,
   "id": "9a1e0b01",
   "metadata": {},
   "outputs": [
    {
     "data": {
      "text/plain": [
       "tensor([[4., 5., 2.],\n",
       "        [1., 3., 1.]])"
      ]
     },
     "execution_count": 47,
     "metadata": {},
     "output_type": "execute_result"
    }
   ],
   "source": [
    "points_t = points.t()\n",
    "points_t"
   ]
  },
  {
   "cell_type": "code",
   "execution_count": 48,
   "id": "fbeaa17a",
   "metadata": {},
   "outputs": [
    {
     "data": {
      "text/plain": [
       "False"
      ]
     },
     "execution_count": 48,
     "metadata": {},
     "output_type": "execute_result"
    }
   ],
   "source": [
    "id(points.storage()) == id(points_t.storage())"
   ]
  },
  {
   "cell_type": "code",
   "execution_count": 49,
   "id": "e8ee1de4",
   "metadata": {},
   "outputs": [
    {
     "data": {
      "text/plain": [
       "(2, 1)"
      ]
     },
     "execution_count": 49,
     "metadata": {},
     "output_type": "execute_result"
    }
   ],
   "source": [
    "points.stride()"
   ]
  },
  {
   "cell_type": "code",
   "execution_count": 50,
   "id": "da0207d2",
   "metadata": {},
   "outputs": [
    {
     "data": {
      "text/plain": [
       "(1, 2)"
      ]
     },
     "execution_count": 50,
     "metadata": {},
     "output_type": "execute_result"
    }
   ],
   "source": [
    "points_t.stride()"
   ]
  },
  {
   "cell_type": "code",
   "execution_count": 51,
   "id": "1877ee50",
   "metadata": {},
   "outputs": [
    {
     "data": {
      "text/plain": [
       "torch.Size([3, 4, 5])"
      ]
     },
     "execution_count": 51,
     "metadata": {},
     "output_type": "execute_result"
    }
   ],
   "source": [
    "some_t = torch.ones(3, 4, 5)\n",
    "some_t.shape"
   ]
  },
  {
   "cell_type": "code",
   "execution_count": 52,
   "id": "47f06d06",
   "metadata": {},
   "outputs": [
    {
     "data": {
      "text/plain": [
       "torch.Size([5, 4, 3])"
      ]
     },
     "execution_count": 52,
     "metadata": {},
     "output_type": "execute_result"
    }
   ],
   "source": [
    "transpose_t = some_t.transpose(0, 2)\n",
    "transpose_t.shape"
   ]
  },
  {
   "cell_type": "code",
   "execution_count": 53,
   "id": "680e2037",
   "metadata": {},
   "outputs": [
    {
     "data": {
      "text/plain": [
       "(20, 5, 1)"
      ]
     },
     "execution_count": 53,
     "metadata": {},
     "output_type": "execute_result"
    }
   ],
   "source": [
    "some_t.stride()"
   ]
  },
  {
   "cell_type": "code",
   "execution_count": 54,
   "id": "a6d67770",
   "metadata": {},
   "outputs": [
    {
     "data": {
      "text/plain": [
       "(1, 5, 20)"
      ]
     },
     "execution_count": 54,
     "metadata": {},
     "output_type": "execute_result"
    }
   ],
   "source": [
    "transpose_t.stride()"
   ]
  },
  {
   "cell_type": "code",
   "execution_count": 55,
   "id": "840563de",
   "metadata": {},
   "outputs": [
    {
     "name": "stdout",
     "output_type": "stream",
     "text": [
      "1.11.0\n",
      "True\n",
      "tensor([[4., 1.],\n",
      "        [5., 3.],\n",
      "        [2., 1.]], device='cuda:0')\n"
     ]
    }
   ],
   "source": [
    "print(torch.__version__)\n",
    "print(torch.cuda.is_available())\n",
    "points_gpu = torch.tensor([[4.0, 1.0], [5.0, 3.0], [2.0, 1.0]], device='cuda')\n",
    "print(points_gpu)"
   ]
  },
  {
   "cell_type": "code",
   "execution_count": 56,
   "id": "12a31f12",
   "metadata": {},
   "outputs": [
    {
     "data": {
      "text/plain": [
       "tensor([[4., 1.],\n",
       "        [5., 3.],\n",
       "        [2., 1.]], device='cuda:0')"
      ]
     },
     "execution_count": 56,
     "metadata": {},
     "output_type": "execute_result"
    }
   ],
   "source": [
    "points_gpu = points.to(device='cuda')\n",
    "points_gpu"
   ]
  },
  {
   "cell_type": "code",
   "execution_count": 57,
   "id": "61d85e01",
   "metadata": {},
   "outputs": [],
   "source": [
    "points_gpu = points.cuda()\n",
    "points_gpu = points.cuda(0)\n",
    "points_gpu = points.cpu()"
   ]
  },
  {
   "cell_type": "code",
   "execution_count": 58,
   "id": "2aefa084",
   "metadata": {},
   "outputs": [
    {
     "data": {
      "text/plain": [
       "array([[1., 1., 1., 1.],\n",
       "       [1., 1., 1., 1.],\n",
       "       [1., 1., 1., 1.]], dtype=float32)"
      ]
     },
     "execution_count": 58,
     "metadata": {},
     "output_type": "execute_result"
    }
   ],
   "source": [
    "points = torch.ones(3, 4)\n",
    "points_np = points.numpy()\n",
    "points_np"
   ]
  },
  {
   "cell_type": "code",
   "execution_count": 59,
   "id": "c07ca6ad",
   "metadata": {},
   "outputs": [
    {
     "data": {
      "text/plain": [
       "tensor([[1., 1., 1., 1.],\n",
       "        [1., 1., 1., 1.],\n",
       "        [1., 1., 1., 1.]])"
      ]
     },
     "execution_count": 59,
     "metadata": {},
     "output_type": "execute_result"
    }
   ],
   "source": [
    "points = torch.from_numpy(points_np)\n",
    "points"
   ]
  },
  {
   "cell_type": "code",
   "execution_count": null,
   "id": "6890c2f9",
   "metadata": {},
   "outputs": [],
   "source": []
  }
 ],
 "metadata": {
  "kernelspec": {
   "display_name": "Python 3 (ipykernel)",
   "language": "python",
   "name": "python3"
  },
  "language_info": {
   "codemirror_mode": {
    "name": "ipython",
    "version": 3
   },
   "file_extension": ".py",
   "mimetype": "text/x-python",
   "name": "python",
   "nbconvert_exporter": "python",
   "pygments_lexer": "ipython3",
   "version": "3.9.7"
  }
 },
 "nbformat": 4,
 "nbformat_minor": 5
}
